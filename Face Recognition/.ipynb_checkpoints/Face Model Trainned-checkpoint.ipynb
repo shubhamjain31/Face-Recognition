{
 "cells": [
  {
   "cell_type": "markdown",
   "metadata": {},
   "source": [
    "# Face Recognition"
   ]
  },
  {
   "cell_type": "code",
   "execution_count": 81,
   "metadata": {},
   "outputs": [],
   "source": [
    "#importing essential libraries"
   ]
  },
  {
   "cell_type": "code",
   "execution_count": 82,
   "metadata": {},
   "outputs": [],
   "source": [
    "import numpy as np\n",
    "import cv2\n",
    "from os import listdir\n",
    "from os.path import isfile,join"
   ]
  },
  {
   "cell_type": "code",
   "execution_count": 83,
   "metadata": {},
   "outputs": [],
   "source": [
    "data_path = 'E:/PythonOne/Face Recognition/Faces/'"
   ]
  },
  {
   "cell_type": "code",
   "execution_count": 84,
   "metadata": {},
   "outputs": [],
   "source": [
    "onlyfiles = [f for f in listdir(data_path) if isfile(join(data_path,f))]"
   ]
  },
  {
   "cell_type": "code",
   "execution_count": 85,
   "metadata": {},
   "outputs": [
    {
     "name": "stdout",
     "output_type": "stream",
     "text": [
      "['user1.jpg', 'user10.jpg', 'user100.jpg', 'user11.jpg', 'user12.jpg', 'user13.jpg', 'user14.jpg', 'user15.jpg', 'user16.jpg', 'user17.jpg', 'user18.jpg', 'user19.jpg', 'user2.jpg', 'user20.jpg', 'user21.jpg', 'user22.jpg', 'user23.jpg', 'user24.jpg', 'user25.jpg', 'user26.jpg', 'user27.jpg', 'user28.jpg', 'user29.jpg', 'user3.jpg', 'user30.jpg', 'user31.jpg', 'user32.jpg', 'user33.jpg', 'user34.jpg', 'user35.jpg', 'user36.jpg', 'user37.jpg', 'user38.jpg', 'user39.jpg', 'user4.jpg', 'user40.jpg', 'user41.jpg', 'user42.jpg', 'user43.jpg', 'user44.jpg', 'user45.jpg', 'user46.jpg', 'user47.jpg', 'user48.jpg', 'user49.jpg', 'user5.jpg', 'user50.jpg', 'user51.jpg', 'user52.jpg', 'user53.jpg', 'user54.jpg', 'user55.jpg', 'user56.jpg', 'user57.jpg', 'user58.jpg', 'user59.jpg', 'user6.jpg', 'user60.jpg', 'user61.jpg', 'user62.jpg', 'user63.jpg', 'user64.jpg', 'user65.jpg', 'user66.jpg', 'user67.jpg', 'user68.jpg', 'user69.jpg', 'user7.jpg', 'user70.jpg', 'user71.jpg', 'user72.jpg', 'user73.jpg', 'user74.jpg', 'user75.jpg', 'user76.jpg', 'user77.jpg', 'user78.jpg', 'user79.jpg', 'user8.jpg', 'user80.jpg', 'user81.jpg', 'user82.jpg', 'user83.jpg', 'user84.jpg', 'user85.jpg', 'user86.jpg', 'user87.jpg', 'user88.jpg', 'user89.jpg', 'user9.jpg', 'user90.jpg', 'user91.jpg', 'user92.jpg', 'user93.jpg', 'user94.jpg', 'user95.jpg', 'user96.jpg', 'user97.jpg', 'user98.jpg', 'user99.jpg']\n"
     ]
    }
   ],
   "source": [
    "print(onlyfiles)"
   ]
  },
  {
   "cell_type": "code",
   "execution_count": 86,
   "metadata": {},
   "outputs": [],
   "source": [
    "Training_Data, Labels = [] ,[]"
   ]
  },
  {
   "cell_type": "code",
   "execution_count": 87,
   "metadata": {},
   "outputs": [],
   "source": [
    "for i, files in enumerate(onlyfiles):\n",
    "    image_path = data_path + onlyfiles[i]\n",
    "    images = cv2.imread(image_path,cv2.IMREAD_GRAYSCALE)\n",
    "    Training_Data.append(np.asarray(images,dtype=np.uint8))\n",
    "    Labels.append(i)"
   ]
  },
  {
   "cell_type": "code",
   "execution_count": 88,
   "metadata": {},
   "outputs": [
    {
     "name": "stdout",
     "output_type": "stream",
     "text": [
      "[0, 1, 2, 3, 4, 5, 6, 7, 8, 9, 10, 11, 12, 13, 14, 15, 16, 17, 18, 19, 20, 21, 22, 23, 24, 25, 26, 27, 28, 29, 30, 31, 32, 33, 34, 35, 36, 37, 38, 39, 40, 41, 42, 43, 44, 45, 46, 47, 48, 49, 50, 51, 52, 53, 54, 55, 56, 57, 58, 59, 60, 61, 62, 63, 64, 65, 66, 67, 68, 69, 70, 71, 72, 73, 74, 75, 76, 77, 78, 79, 80, 81, 82, 83, 84, 85, 86, 87, 88, 89, 90, 91, 92, 93, 94, 95, 96, 97, 98, 99]\n"
     ]
    }
   ],
   "source": [
    "print(Labels)"
   ]
  },
  {
   "cell_type": "code",
   "execution_count": 89,
   "metadata": {},
   "outputs": [],
   "source": [
    "Labels = np.asarray(Labels,dtype=np.int32)"
   ]
  },
  {
   "cell_type": "code",
   "execution_count": 99,
   "metadata": {},
   "outputs": [],
   "source": [
    "#load opencv face detector , I am using LBPH(Local Binary Pattern Histogram) algorithm"
   ]
  },
  {
   "cell_type": "code",
   "execution_count": 90,
   "metadata": {},
   "outputs": [],
   "source": [
    "model = cv2.face.LBPHFaceRecognizer_create()"
   ]
  },
  {
   "cell_type": "code",
   "execution_count": 91,
   "metadata": {},
   "outputs": [],
   "source": [
    "model.train(np.asarray(Training_Data),np.asarray(Labels))"
   ]
  },
  {
   "cell_type": "code",
   "execution_count": 92,
   "metadata": {
    "scrolled": true
   },
   "outputs": [
    {
     "name": "stdout",
     "output_type": "stream",
     "text": [
      "Model Training Complete !!\n"
     ]
    }
   ],
   "source": [
    "print(\"Model Training Complete !!\")"
   ]
  },
  {
   "cell_type": "markdown",
   "metadata": {},
   "source": [
    "#### haar cascade"
   ]
  },
  {
   "cell_type": "code",
   "execution_count": 93,
   "metadata": {},
   "outputs": [],
   "source": [
    "face_classifier = cv2.CascadeClassifier('C:/Python36/Lib/site-packages/cv2/data/haarcascade_frontalface_default.xml')"
   ]
  },
  {
   "cell_type": "code",
   "execution_count": 94,
   "metadata": {},
   "outputs": [],
   "source": [
    "#function to detect face\n",
    "def face_detector(img, size = 0.5):\n",
    "    \n",
    "    #convert the test image to gray image \n",
    "    gray = cv2.cvtColor(img, cv2.COLOR_BGR2GRAY)\n",
    "    \n",
    "    #detect multiscale images\n",
    "    faces = face_classifier.detectMultiScale(gray,1.3,5)\n",
    "\n",
    "    #if no faces are detected then return original img\n",
    "    if faces is():\n",
    "        return img,[]\n",
    "\n",
    "    #extract the face area and return only the face part of the image\n",
    "    for(x,y,w,h) in faces:\n",
    "        cv2.rectangle(img, (x,y),(x+w,y+h),(0,255,255),2)\n",
    "        roi = img[y:y+h, x:x+w]\n",
    "        roi = cv2.resize(roi, (200,200))\n",
    "    return img,roi"
   ]
  },
  {
   "cell_type": "code",
   "execution_count": 98,
   "metadata": {},
   "outputs": [],
   "source": [
    "#Open an camera"
   ]
  },
  {
   "cell_type": "code",
   "execution_count": 95,
   "metadata": {},
   "outputs": [],
   "source": [
    "cap = cv2.VideoCapture(0)"
   ]
  },
  {
   "cell_type": "code",
   "execution_count": 96,
   "metadata": {},
   "outputs": [],
   "source": [
    "while True:\n",
    "    \n",
    "    #capture frame-by-frame\n",
    "    ret, frame = cap.read()\n",
    "    \n",
    "    #get two values from face_detector function\n",
    "    image,face = face_detector(frame)\n",
    "    try:\n",
    "        \n",
    "        #convert the captured face in gray color\n",
    "        face = cv2.cvtColor(face,cv2.COLOR_BGR2GRAY)\n",
    "        \n",
    "        #predict the model\n",
    "        result = model.predict(face)\n",
    "        \n",
    "        #check and calculate the confidence value less than 500\n",
    "        if result[1] < 500:\n",
    "            confidence = int(100*(1-(result[1])/300))\n",
    "            \n",
    "            #display the confidence value on window\n",
    "            display_string = str(confidence)+'% Confidence it is user'\n",
    "        cv2.putText(image,display_string,(100,120),cv2.FONT_HERSHEY_COMPLEX,1,(250,120,255),2)\n",
    "        \n",
    "        #if confidence value greater than 75% then face matches\n",
    "        if confidence > 75:\n",
    "            cv2.putText(image, \"Unlocked\", (250, 450), cv2.FONT_HERSHEY_COMPLEX, 1, (0, 255, 0), 2)\n",
    "            cv2.imshow('Face Cropper', image)\n",
    "\n",
    "        else:\n",
    "            \n",
    "            #if confidence value less than 75% then face not matches\n",
    "            cv2.putText(image, \"Locked\", (250, 450), cv2.FONT_HERSHEY_COMPLEX, 1, (0, 0, 255), 2)\n",
    "            cv2.imshow('Face Cropper', image)\n",
    "    except:\n",
    "        \n",
    "        #display the message if face not found, \n",
    "        cv2.putText(image, \"Face Not Found\", (250, 450), cv2.FONT_HERSHEY_COMPLEX, 1, (255, 0, 0), 2)\n",
    "        cv2.imshow('Face Cropper', image)\n",
    "        pass\n",
    "    \n",
    "    if cv2.waitKey(1)==13:\n",
    "        break\n",
    "        \n",
    "#when everthing done, release the capture\n",
    "cap.release()\n",
    "cv2.destroyAllWindows()"
   ]
  },
  {
   "cell_type": "code",
   "execution_count": null,
   "metadata": {},
   "outputs": [],
   "source": []
  }
 ],
 "metadata": {
  "kernelspec": {
   "display_name": "Python 3",
   "language": "python",
   "name": "python3"
  },
  "language_info": {
   "codemirror_mode": {
    "name": "ipython",
    "version": 3
   },
   "file_extension": ".py",
   "mimetype": "text/x-python",
   "name": "python",
   "nbconvert_exporter": "python",
   "pygments_lexer": "ipython3",
   "version": "3.6.6"
  }
 },
 "nbformat": 4,
 "nbformat_minor": 4
}
